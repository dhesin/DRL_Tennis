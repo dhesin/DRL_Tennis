{
 "cells": [
  {
   "cell_type": "markdown",
   "metadata": {},
   "source": [
    "# Collaboration and Competition\n",
    "\n",
    "---\n",
    "\n",
    "In this notebook, you will learn how to use the Unity ML-Agents environment for the third project of the [Deep Reinforcement Learning Nanodegree](https://www.udacity.com/course/deep-reinforcement-learning-nanodegree--nd893) program.\n",
    "\n",
    "### 1. Start the Environment\n",
    "\n",
    "We begin by importing the necessary packages.  If the code cell below returns an error, please revisit the project instructions to double-check that you have installed [Unity ML-Agents](https://github.com/Unity-Technologies/ml-agents/blob/master/docs/Installation.md) and [NumPy](http://www.numpy.org/)."
   ]
  },
  {
   "cell_type": "code",
   "execution_count": 1,
   "metadata": {},
   "outputs": [],
   "source": [
    "from unityagents import UnityEnvironment\n",
    "import numpy as np\n",
    "from ddpg_agent import Agent\n",
    "import torch\n",
    "from collections import deque\n",
    "import matplotlib.pyplot as plt\n",
    "%matplotlib inline"
   ]
  },
  {
   "cell_type": "markdown",
   "metadata": {},
   "source": [
    "Next, we will start the environment!  **_Before running the code cell below_**, change the `file_name` parameter to match the location of the Unity environment that you downloaded.\n",
    "\n",
    "- **Mac**: `\"path/to/Tennis.app\"`\n",
    "- **Windows** (x86): `\"path/to/Tennis_Windows_x86/Tennis.exe\"`\n",
    "- **Windows** (x86_64): `\"path/to/Tennis_Windows_x86_64/Tennis.exe\"`\n",
    "- **Linux** (x86): `\"path/to/Tennis_Linux/Tennis.x86\"`\n",
    "- **Linux** (x86_64): `\"path/to/Tennis_Linux/Tennis.x86_64\"`\n",
    "- **Linux** (x86, headless): `\"path/to/Tennis_Linux_NoVis/Tennis.x86\"`\n",
    "- **Linux** (x86_64, headless): `\"path/to/Tennis_Linux_NoVis/Tennis.x86_64\"`\n",
    "\n",
    "For instance, if you are using a Mac, then you downloaded `Tennis.app`.  If this file is in the same folder as the notebook, then the line below should appear as follows:\n",
    "```\n",
    "env = UnityEnvironment(file_name=\"Tennis.app\")\n",
    "```"
   ]
  },
  {
   "cell_type": "code",
   "execution_count": 2,
   "metadata": {},
   "outputs": [
    {
     "name": "stderr",
     "output_type": "stream",
     "text": [
      "INFO:unityagents:\n",
      "'Academy' started successfully!\n",
      "Unity Academy name: Academy\n",
      "        Number of Brains: 1\n",
      "        Number of External Brains : 1\n",
      "        Lesson number : 0\n",
      "        Reset Parameters :\n",
      "\t\t\n",
      "Unity brain name: TennisBrain\n",
      "        Number of Visual Observations (per agent): 0\n",
      "        Vector Observation space type: continuous\n",
      "        Vector Observation space size (per agent): 8\n",
      "        Number of stacked Vector Observation: 3\n",
      "        Vector Action space type: continuous\n",
      "        Vector Action space size (per agent): 2\n",
      "        Vector Action descriptions: , \n"
     ]
    }
   ],
   "source": [
    "env = UnityEnvironment(file_name=\"Tennis.app\")"
   ]
  },
  {
   "cell_type": "markdown",
   "metadata": {},
   "source": [
    "Environments contain **_brains_** which are responsible for deciding the actions of their associated agents. Here we check for the first brain available, and set it as the default brain we will be controlling from Python."
   ]
  },
  {
   "cell_type": "code",
   "execution_count": 3,
   "metadata": {},
   "outputs": [],
   "source": [
    "# get the default brain\n",
    "brain_name = env.brain_names[0]\n",
    "brain = env.brains[brain_name]"
   ]
  },
  {
   "cell_type": "markdown",
   "metadata": {},
   "source": [
    "### 2. Examine the State and Action Spaces\n",
    "\n",
    "In this environment, two agents control rackets to bounce a ball over a net. If an agent hits the ball over the net, it receives a reward of +0.1.  If an agent lets a ball hit the ground or hits the ball out of bounds, it receives a reward of -0.01.  Thus, the goal of each agent is to keep the ball in play.\n",
    "\n",
    "The observation space consists of 8 variables corresponding to the position and velocity of the ball and racket. Two continuous actions are available, corresponding to movement toward (or away from) the net, and jumping. \n",
    "\n",
    "Run the code cell below to print some information about the environment."
   ]
  },
  {
   "cell_type": "code",
   "execution_count": 4,
   "metadata": {},
   "outputs": [
    {
     "name": "stdout",
     "output_type": "stream",
     "text": [
      "Number of agents: 2\n",
      "Size of each action: 2\n",
      "There are (2, 24) agents. Each observes a state with length: 24\n",
      "The state for the first agent looks like: [[ 0.          0.          0.          0.          0.          0.\n",
      "   0.          0.          0.          0.          0.          0.\n",
      "   0.          0.          0.          0.         -6.65278625 -1.5\n",
      "  -0.          0.          6.83172083  6.         -0.          0.        ]\n",
      " [ 0.          0.          0.          0.          0.          0.\n",
      "   0.          0.          0.          0.          0.          0.\n",
      "   0.          0.          0.          0.         -6.4669857  -1.5\n",
      "   0.          0.         -6.83172083  6.          0.          0.        ]]\n"
     ]
    }
   ],
   "source": [
    "# reset the environment\n",
    "env_info = env.reset(train_mode=False)[brain_name]\n",
    "\n",
    "# number of agents \n",
    "num_agents = len(env_info.agents)\n",
    "print('Number of agents:', num_agents)\n",
    "\n",
    "# size of each action\n",
    "action_size_env = brain.vector_action_space_size\n",
    "print('Size of each action:', action_size_env)\n",
    "\n",
    "# examine the state space \n",
    "states = env_info.vector_observations\n",
    "state_size_env = states.shape[1]\n",
    "print('There are {} agents. Each observes a state with length: {}'.format(states.shape, state_size_env))\n",
    "print('The state for the first agent looks like:', states)"
   ]
  },
  {
   "cell_type": "markdown",
   "metadata": {},
   "source": [
    "### 3. Train the Agent\n"
   ]
  },
  {
   "cell_type": "code",
   "execution_count": 5,
   "metadata": {},
   "outputs": [
    {
     "name": "stdout",
     "output_type": "stream",
     "text": [
      "Episode 200\tAverage Score: 0.001\tScore: 0.000\tBalls Over: 8        [1.0101010101010103e-05]\n",
      "\n",
      "Episode 400\tAverage Score: 0.035\tScore: 0.000\tBalls Over: 58        [1.0101010101010103e-05]\n",
      "\n",
      "Episode 600\tAverage Score: 0.021\tScore: 0.000\tBalls Over: 106        [1.0101010101010103e-05]\n",
      "\n",
      "Episode 800\tAverage Score: 0.057\tScore: 0.100\tBalls Over: 213        [1.0101010101010103e-05]\n",
      "\n",
      "Episode 1000\tAverage Score: 0.062\tScore: 0.100\tBalls Over: 340        [1.0101010101010103e-05]\n",
      "\n",
      "Episode 1200\tAverage Score: 0.090\tScore: 0.100\tBalls Over: 543        [1.0101010101010103e-05]\n",
      "\n",
      "Episode 1400\tAverage Score: 0.094\tScore: 0.100\tBalls Over: 817        [1.0101010101010103e-05]\n",
      "\n",
      "Episode 1600\tAverage Score: 0.155\tScore: 0.290\tBalls Over: 1276        [1.0101010101010103e-05]\n",
      "\n",
      "Episode 1800\tAverage Score: 0.261\tScore: 0.300\tBalls Over: 2087        [1.0101010101010103e-05]\n",
      "\n",
      "Episode 2000\tAverage Score: 0.285\tScore: 0.100\tBalls Over: 3337        [1.0101010101010103e-05]\n",
      "\n",
      "Episode 2200\tAverage Score: 0.467\tScore: 0.800\tBalls Over: 5064        [1.0101010101010103e-05]\n",
      "\n",
      "Episode 2400\tAverage Score: 0.306\tScore: 0.400\tBalls Over: 6359        [1.0101010101010103e-05]\n",
      "\n",
      "Episode 2600\tAverage Score: 0.559\tScore: 1.300\tBalls Over: 8464        [1.0101010101010103e-05]\n",
      "\n",
      "Episode 2800\tAverage Score: 0.395\tScore: 1.200\tBalls Over: 9828        [1.0101010101010103e-05]\n",
      "\n",
      "Episode 3000\tAverage Score: 0.666\tScore: 0.300\tBalls Over: 12212        [1.0101010101010103e-05]\n",
      "\n",
      "Episode 3200\tAverage Score: 0.400\tScore: 0.500\tBalls Over: 13843        [1.0101010101010103e-05]\n",
      "\n",
      "Episode 3400\tAverage Score: 0.328\tScore: 0.200\tBalls Over: 15310        [1.0101010101010103e-05]\n",
      "\n",
      "Episode 3600\tAverage Score: 0.282\tScore: 0.300\tBalls Over: 16267        [1.0101010101010103e-05]\n",
      "\n",
      "Episode 3800\tAverage Score: 0.327\tScore: 0.300\tBalls Over: 17468        [1.0101010101010103e-05]\n",
      "\n",
      "Episode 4000\tAverage Score: 0.357\tScore: 0.300\tBalls Over: 18674        [1.0101010101010103e-05]\n",
      "\n",
      "Episode 4200\tAverage Score: 0.350\tScore: 0.200\tBalls Over: 19935        [1.0101010101010103e-05]\n",
      "\n",
      "Episode 4400\tAverage Score: 0.305\tScore: 0.300\tBalls Over: 21200        [1.0101010101010103e-05]\n",
      "\n",
      "Episode 4600\tAverage Score: 0.313\tScore: 0.100\tBalls Over: 22260        [1.0101010101010103e-05]\n",
      "\n",
      "Episode 4800\tAverage Score: 0.494\tScore: 1.500\tBalls Over: 23956        [1.0101010101010103e-05]\n",
      "\n",
      "Episode 5000\tAverage Score: 0.327\tScore: 0.600\tBalls Over: 25285        [1.0101010101010103e-05]\n",
      "\n",
      "Episode 5000\tAverage Score: 0.327\tScore: 0.600\tBalls Over: 25285       scores len  5000\n"
     ]
    },
    {
     "data": {
      "image/png": "[encoded data removed]",
      "text/plain": [
       "<Figure size 432x288 with 1 Axes>"
      ]
     },
     "metadata": {},
     "output_type": "display_data"
    }
   ],
   "source": [
    "agent = Agent(state_size=state_size_env, action_size=action_size_env, num_agents=2, random_seed=0)\n",
    "#agent = Agent(state_size=state_size_env, action_size=action_size_env, actor_chkpt_file=\"checkpoint_actor.pth\", critic_chkpt_file=\"checkpoint_critic.pth\", random_seed=0)\n",
    "#agent_2 = Agent(state_size=state_size_env, action_size=action_size_env, random_seed=0)\n",
    "\n",
    "def ddpg(n_episodes=5000, max_t=1000):\n",
    "    scores_deque = deque(maxlen=100)\n",
    "    scores_all = []\n",
    "    balls_over = 0\n",
    "    noise_scale = 1.0\n",
    "    for i_episode in range(1, n_episodes+1):\n",
    "        env_info = env.reset(train_mode=True)[brain_name]     # reset the environment\n",
    "        agent.reset()\n",
    "        states = env_info.vector_observations                  # get the current state (for each agent)\n",
    "        scores = np.zeros(num_agents)                         # initialize the score (for each agent)    \n",
    "        actions = np.zeros((num_agents, action_size_env))\n",
    "        #agent.reset()\n",
    "        t = 0\n",
    "        while True:\n",
    "            \n",
    "            actions = agent.act(states, True, noise_scale)\n",
    "\n",
    "            env_info = env.step(actions)[brain_name]           # send all actions to tne environment\n",
    "            next_states = env_info.vector_observations         # get next state (for each agent)\n",
    "            rewards = env_info.rewards                         # get reward (for each agent)\n",
    "            done = env_info.local_done                         # see if episode finished\n",
    "            scores += rewards                                  # update the score (for each agent\n",
    "        \n",
    "            if rewards[0] >= 0.1 or rewards[1] >= 0.1:\n",
    "                balls_over += 1\n",
    "\n",
    "            agent.step(states, actions, rewards, next_states, done)\n",
    "\n",
    "            states = next_states\n",
    "            \n",
    "            if np.any(done):                                  # exit loop if episode finished\n",
    "                break \n",
    "                \n",
    "        noise_scale = noise_scale*0.99\n",
    "        scores_avg = np.amax(scores)\n",
    "        scores_deque.append(scores_avg)\n",
    "        scores_all.append(scores_avg)\n",
    "        #print(scores_agents)\n",
    "        print('\\rEpisode {}\\tAverage Score: {:2.3f}\\tScore: {:2.3f}\\tBalls Over: {}        '.format(i_episode, np.mean(scores_deque), scores_avg, balls_over), end=\"\")\n",
    "        if i_episode % 200 == 0:\n",
    "            print(agent.actor_scheduler.get_lr())\n",
    "            print('\\nEpisode {}\\tAverage Score: {:2.3f}\\tScore: {:2.3f}\\tBalls Over: {}       '.format(i_episode, np.mean(scores_deque), scores_avg, balls_over), end=\"\")\n",
    "            torch.save(agent.actor_local.state_dict(), 'checkpoint_actor_{}.pth'.format(i_episode))\n",
    "            torch.save(agent.critic_local.state_dict(), 'checkpoint_critic_{}.pth'.format(i_episode))   \n",
    "    return scores_all\n",
    "\n",
    "#scores = ddpg(n_episodes=10, max_t=130)\n",
    "\n",
    "\n",
    "scores = ddpg()\n",
    "print('scores len  {}'.format(len(scores)))\n",
    "\n",
    "fig = plt.figure()\n",
    "ax = fig.add_subplot(111)\n",
    "plt.plot(np.arange(1, len(scores)+1), scores)\n",
    "plt.ylabel('Score')\n",
    "plt.xlabel('Episode #')\n",
    "plt.show()\n",
    "fig.savefig('AverageScore.png')        "
   ]
  },
  {
   "cell_type": "markdown",
   "metadata": {},
   "source": [
    "When finished, you can close the environment."
   ]
  },
  {
   "cell_type": "code",
   "execution_count": 6,
   "metadata": {},
   "outputs": [],
   "source": [
    "env.close()"
   ]
  }
 ],
 "metadata": {
  "kernelspec": {
   "display_name": "drlnd",
   "language": "python",
   "name": "drlnd"
  },
  "language_info": {
   "codemirror_mode": {
    "name": "ipython",
    "version": 3
   },
   "file_extension": ".py",
   "mimetype": "text/x-python",
   "name": "python",
   "nbconvert_exporter": "python",
   "pygments_lexer": "ipython3",
   "version": "3.6.5"
  }
 },
 "nbformat": 4,
 "nbformat_minor": 2
}
